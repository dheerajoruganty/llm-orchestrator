{
 "cells": [
  {
   "cell_type": "code",
   "execution_count": 3,
   "metadata": {},
   "outputs": [],
   "source": [
    "import time\n",
    "import json\n",
    "import yaml\n",
    "import boto3\n",
    "import base64\n",
    "import logging\n",
    "import asyncio\n",
    "import paramiko\n",
    "from utils import *\n",
    "from constants import *\n",
    "from scp import SCPClient\n",
    "from collections import defaultdict\n",
    "from concurrent.futures import ThreadPoolExecutor\n",
    "from botocore.exceptions import NoCredentialsError, ClientError\n",
    "\n",
    "executor = ThreadPoolExecutor()\n",
    "\n",
    "\n"
   ]
  },
  {
   "cell_type": "code",
   "execution_count": 4,
   "metadata": {},
   "outputs": [],
   "source": [
    "instance_id_list = []\n",
    "fmbench_config_map = []\n"
   ]
  },
  {
   "cell_type": "code",
   "execution_count": 5,
   "metadata": {},
   "outputs": [],
   "source": [
    "def load_yaml_file(file_path):\n",
    "    \"\"\"\n",
    "    Load and parse a YAML file.\n",
    "\n",
    "    Args:\n",
    "        file_path (str): The path to the YAML file to be read.\n",
    "\n",
    "    Returns:\n",
    "        dict: Parsed content of the YAML file as a dictionary.\n",
    "    \"\"\"\n",
    "    with open(file_path, \"r\") as file:\n",
    "        try:\n",
    "            data = yaml.safe_load(file)\n",
    "            return data\n",
    "        except yaml.YAMLError as error:\n",
    "            print(f\"Error reading the YAML file: {error}\")\n",
    "            return None\n"
   ]
  },
  {
   "cell_type": "code",
   "execution_count": 6,
   "metadata": {},
   "outputs": [],
   "source": [
    "config_data = load_yaml_file(yaml_file_path)\n"
   ]
  },
  {
   "cell_type": "code",
   "execution_count": 7,
   "metadata": {},
   "outputs": [
    {
     "name": "stdout",
     "output_type": "stream",
     "text": [
      "{'aws': {'region': 'us-east-1', 'iam_instance_profile_arn': 'arn:aws:iam::471112568442:instance-profile/EC2'}, 'run_steps': {'security_group_creation': True, 'key_pair_generation': False, 'deploy_ec2_instance': True, 'run_bash_script': True, 'delete_ec2_instance': True}, 'security_group': {'group_name': 'ec2_multi_deploy', 'description': 'MultiDeploy EC2 Security Group', 'vpc_id': None}, 'key_pair_gen': {'key_pair_name': 'ec2_multi_deploy_kp', 'key_pair_fpath': 'ec2_multi_deploy_kp.pem'}, 'instances': [{'instance_type': 'g5.2xlarge', 'ami_id': 'ami-05c3e698bd0cffe7e', 'startup_script': 'startup_scripts/gpu_ubuntu_startup.txt', 'fmbench_config': 'src/fmbench/configs/llama3/8b/config-ec2-llama3-8b.yml'}]}\n"
     ]
    }
   ],
   "source": [
    "print(config_data)\n"
   ]
  },
  {
   "cell_type": "code",
   "execution_count": 8,
   "metadata": {},
   "outputs": [
    {
     "name": "stdout",
     "output_type": "stream",
     "text": [
      "Security Group 'ec2_multi_deploy' already exists. Fetching existing security group ID.\n",
      "Inbound rule already exists for Security Group sg-013c79f5ffe82fb52. Skipping...\n"
     ]
    }
   ],
   "source": [
    "if config_data[\"run_steps\"][\"security_group_creation\"]:\n",
    "    GROUP_NAME = config_data[\"security_group\"].get(\"group_name\")\n",
    "    DESCRIPTION = config_data[\"security_group\"].get(\"description\", \" \")\n",
    "    VPC_ID = config_data[\"security_group\"].get(\"vpc_id\", \"\")\n",
    "    try:\n",
    "        sg_id = create_security_group(GROUP_NAME, DESCRIPTION, VPC_ID)\n",
    "\n",
    "        if sg_id:\n",
    "            # Add inbound rules if security group was created successfully\n",
    "            authorize_inbound_rules(sg_id)\n",
    "    except ClientError as e:\n",
    "        print(f\"An error occurred while creating or getting the security group: {e}\")\n"
   ]
  },
  {
   "cell_type": "code",
   "execution_count": 9,
   "metadata": {},
   "outputs": [],
   "source": [
    "if config_data[\"run_steps\"][\"key_pair_generation\"]:\n",
    "    KEY_PAIR_NAME = config_data[\"key_pair_gen\"][\"key_pair_name\"]\n",
    "    private_key = create_key_pair(KEY_PAIR_NAME)\n",
    "elif config_data[\"run_steps\"][\"key_pair_generation\"] == False:\n",
    "    KEY_PAIR_NAME = config_data[\"key_pair_gen\"][\"key_pair_name\"]\n",
    "    PRIVATE_KEY_FNAME = config_data[\"key_pair_gen\"][\"key_pair_fpath\"]\n",
    "    try:\n",
    "        with open(f\"{PRIVATE_KEY_FNAME}\", \"r\") as file:\n",
    "            private_key = file.read()\n",
    "    except FileNotFoundError:\n",
    "        print(f\"File not found: {PRIVATE_KEY_FNAME}\")\n",
    "    except IOError as e:\n",
    "        print(f\"Error reading file {PRIVATE_KEY_FNAME}: {e}\")\n"
   ]
  },
  {
   "cell_type": "code",
   "execution_count": 10,
   "metadata": {},
   "outputs": [
    {
     "name": "stdout",
     "output_type": "stream",
     "text": [
      "{'instance_type': 'g5.2xlarge', 'ami_id': 'ami-05c3e698bd0cffe7e', 'startup_script': 'startup_scripts/gpu_ubuntu_startup.txt', 'fmbench_config': 'src/fmbench/configs/llama3/8b/config-ec2-llama3-8b.yml'}\n"
     ]
    }
   ],
   "source": [
    "for i in config_data[\"instances\"]:\n",
    "    print(i)\n"
   ]
  },
  {
   "cell_type": "code",
   "execution_count": 11,
   "metadata": {},
   "outputs": [],
   "source": [
    "# if config_data[\"run_steps\"][\"deploy_ec2_instance\"]:\n",
    "#     iam_arn = config_data[\"aws\"][\"iam_instance_profile_arn\"]\n",
    "#     print(iam_arn)\n",
    "#     # WIP Parallelize This.\n",
    "#     for instance in config_data[\"instances\"]:\n",
    "#         instance_type = instance[\"instance_type\"]\n",
    "#         ami_id = instance[\"ami_id\"]\n",
    "#         startup_script = instance[\"startup_script\"]\n",
    "#         # command_to_run = instance[\"command_to_run\"]\n",
    "#         with open(f\"{startup_script}\", \"r\") as file:\n",
    "#             user_data_script = file.read()\n",
    "#         # user_data_script += command_to_run\n",
    "#         # Create an EC2 instance with the user data script\n",
    "#         instance_id = create_ec2_instance(\n",
    "#             KEY_PAIR_NAME,\n",
    "#             sg_id,\n",
    "#             user_data_script,\n",
    "#             ami_id,\n",
    "#             instance_type,\n",
    "#             iam_arn,\n",
    "#         )\n",
    "#         instance_id_list.append(instance_id)\n",
    "#         fmbench_config_map.append({instance_id: instance[\"fmbench_config\"]})\n"
   ]
  },
  {
   "cell_type": "code",
   "execution_count": 12,
   "metadata": {},
   "outputs": [],
   "source": [
    "instance_id_list.append('i-03bda4e866885b13e')\n",
    "fmbench_config_map.append({'i-03bda4e866885b13e':'src/fmbench/configs/llama3/8b/config-ec2-llama3-8b.yml'})\n"
   ]
  },
  {
   "cell_type": "code",
   "execution_count": 13,
   "metadata": {},
   "outputs": [],
   "source": [
    "def check_completion_flag(\n",
    "    hostname, username, key_file_path, flag_file_path=\"/tmp/startup_complete.flag\"\n",
    "):\n",
    "    \"\"\"\n",
    "    Checks if the startup flag file exists on the EC2 instance.\n",
    "\n",
    "    Args:\n",
    "        hostname (str): The public IP or DNS of the EC2 instance.\n",
    "        username (str): The SSH username (e.g., 'ubuntu').\n",
    "        key_file_path (str): The path to the PEM key file.\n",
    "        flag_file_path (str): The path to the startup flag file on the instance. Default is '/tmp/startup_complete.flag'.\n",
    "\n",
    "    Returns:\n",
    "        bool: True if the flag file exists, False otherwise.\n",
    "    \"\"\"\n",
    "    try:\n",
    "        # Initialize the SSH client\n",
    "        ssh_client = paramiko.SSHClient()\n",
    "        ssh_client.set_missing_host_key_policy(paramiko.AutoAddPolicy())\n",
    "\n",
    "        # Load the private key\n",
    "        private_key = paramiko.RSAKey.from_private_key_file(key_file_path)\n",
    "\n",
    "        # Connect to the instance\n",
    "        ssh_client.connect(hostname, username=username, pkey=private_key)\n",
    "        print(f\"Connected to {hostname} as {username}\")\n",
    "\n",
    "        # Check if the flag file exists\n",
    "        stdin, stdout, stderr = ssh_client.exec_command(\n",
    "            f\"test -f {flag_file_path} && echo 'File exists'\"\n",
    "        )\n",
    "        output = stdout.read().decode().strip()\n",
    "        error = stderr.read().decode().strip()\n",
    "\n",
    "        # Close the connection\n",
    "        ssh_client.close()\n",
    "\n",
    "        # Return True if the file exists, otherwise False\n",
    "        return output == \"File exists\"\n",
    "\n",
    "    except Exception as e:\n",
    "        print(f\"Error connecting via SSH to {hostname}: {e}\")\n",
    "        return False\n"
   ]
  },
  {
   "cell_type": "code",
   "execution_count": 14,
   "metadata": {},
   "outputs": [],
   "source": [
    "def wait_for_flag(\n",
    "    instance,\n",
    "    max_wait_time=600,\n",
    "    check_interval=30,\n",
    "    flag_file_path=\"/tmp/startup_complete.flag\",\n",
    "):\n",
    "    \"\"\"\n",
    "    Waits for the startup flag file on the EC2 instance, and returns the script if the flag file is found.\n",
    "\n",
    "    Args:\n",
    "        instance (dict): The dictionary containing instance details (hostname, username, key_file_path).\n",
    "        formatted_script (str): The bash script content to be executed.\n",
    "        remote_script_path (str): The remote path where the script should be saved on the instance.\n",
    "        max_wait_time (int): Maximum wait time in seconds (default: 600 seconds or 10 minutes).\n",
    "        check_interval (int): Interval time in seconds between checks (default: 30 seconds).\n",
    "    \"\"\"\n",
    "    elapsed_time = 0\n",
    "    while elapsed_time < max_wait_time:\n",
    "        # Check if the startup flag exists on the instance\n",
    "        startup_complete = check_completion_flag(\n",
    "            hostname=instance[\"hostname\"],\n",
    "            username=instance[\"username\"],\n",
    "            key_file_path=instance[\"key_file_path\"],\n",
    "            flag_file_path=flag_file_path,\n",
    "        )\n",
    "\n",
    "        if startup_complete:\n",
    "            return True\n",
    "\n",
    "        # Wait for the specified check interval before trying again\n",
    "        print(\n",
    "            f\"{flag_file_path} flag file not found. Checking again in {check_interval} seconds...\"\n",
    "        )\n",
    "        time.sleep(check_interval)\n",
    "        elapsed_time += check_interval\n",
    "\n",
    "    return False\n"
   ]
  },
  {
   "cell_type": "code",
   "execution_count": 15,
   "metadata": {},
   "outputs": [],
   "source": [
    "# if config_data[\"run_steps\"][\"deploy_ec2_instance\"]:\n",
    "#     instance_details = generate_instance_details(\n",
    "#         instance_id_list, PRIVATE_KEY_FNAME, fmbench_config_map, region=\"us-east-1\"\n",
    "#     )\n",
    "#     for instance in instance_details:\n",
    "#         # Format the script with the specific config file\n",
    "#         formatted_script = bash_script.format(config_file=instance[\"config_file\"])\n",
    "\n",
    "#         if wait_for_flag(instance):\n",
    "#             print(\"Startup Script complete, executing fmbench now\")\n",
    "#             # Upload and execute the script on the instance\n",
    "#             script_output = upload_and_execute_script_invoke_shell(\n",
    "#                 hostname=instance[\"hostname\"],\n",
    "#                 username=instance[\"username\"],\n",
    "#                 key_file_path=instance[\"key_file_path\"],\n",
    "#                 script_content=formatted_script,\n",
    "#                 remote_script_path=remote_script_path,\n",
    "#             )\n",
    "#     for instance in instance_details:\n",
    "#         if wait_for_flag(instance, flag_file_path=\"/tmp/fmbench_completed.flag\"):\n",
    "#             print(\"Fmbench Run successful, Getting the folders now\")\n",
    "#             check_and_retrieve_results_folder(instance)\n"
   ]
  },
  {
   "cell_type": "code",
   "execution_count": 16,
   "metadata": {},
   "outputs": [],
   "source": [
    "async def execute_fmbench(instance, formatted_script, remote_script_path):\n",
    "    \"\"\"\n",
    "    Asynchronous wrapper for deploying an instance using synchronous functions.\n",
    "    \"\"\"\n",
    "    # Check for the startup completion flag\n",
    "    startup_complete = await asyncio.get_event_loop().run_in_executor(\n",
    "        executor, wait_for_flag, instance, 600, 30, \"/tmp/startup_complete.flag\"\n",
    "    )\n",
    "\n",
    "    if startup_complete:\n",
    "        print(\"Startup Script complete, executing fmbench now\")\n",
    "\n",
    "        # # Upload and execute the script on the instance\n",
    "        # script_output = await asyncio.get_event_loop().run_in_executor(\n",
    "        #     executor,\n",
    "        #     upload_and_execute_script_invoke_shell,\n",
    "        #     instance[\"hostname\"],\n",
    "        #     instance[\"username\"],\n",
    "        #     instance[\"key_file_path\"],\n",
    "        #     formatted_script,\n",
    "        #     remote_script_path,\n",
    "        # )\n",
    "        # print(f\"Script Output from {instance['hostname']}:\\n{script_output}\")\n",
    "\n",
    "        # Check for the fmbench completion flag\n",
    "        fmbench_complete = await asyncio.get_event_loop().run_in_executor(\n",
    "            executor, wait_for_flag, instance, 1200, 30, \"/tmp/fmbench_completed.flag\"\n",
    "        )\n",
    "\n",
    "        if fmbench_complete:\n",
    "            print(\"Fmbench Run successful, Getting the folders now\")\n",
    "            await asyncio.get_event_loop().run_in_executor(\n",
    "                executor, check_and_retrieve_results_folder, instance, 'output'\n",
    "            )\n",
    "\n",
    "\n",
    "# Function to execute the deployment tasks in parallel\n",
    "async def multi_deploy_fmbench(instance_details, bash_script, remote_script_path):\n",
    "    tasks = []\n",
    "\n",
    "    # Create a task for each instance\n",
    "    for instance in instance_details:\n",
    "        # Format the script with the specific config file\n",
    "        formatted_script = bash_script.format(config_file=instance[\"config_file\"])\n",
    "\n",
    "        # Create an async task for this instance\n",
    "        tasks.append(execute_fmbench(instance, formatted_script, remote_script_path))\n",
    "\n",
    "    # Run all tasks concurrently\n",
    "    await asyncio.gather(*tasks)\n"
   ]
  },
  {
   "cell_type": "code",
   "execution_count": 17,
   "metadata": {},
   "outputs": [],
   "source": [
    "async def main():\n",
    "    await multi_deploy_fmbench(instance_details, bash_script, remote_script_path)\n"
   ]
  },
  {
   "cell_type": "code",
   "execution_count": 18,
   "metadata": {},
   "outputs": [
    {
     "name": "stdout",
     "output_type": "stream",
     "text": [
      "Connected to ec2-3-236-82-193.compute-1.amazonaws.com as ubuntu\n",
      "Startup Script complete, executing fmbench now\n",
      "Connected to ec2-3-236-82-193.compute-1.amazonaws.com as ubuntu\n",
      "Fmbench Run successful, Getting the folders now\n",
      "Connected to ec2-3-236-82-193.compute-1.amazonaws.com as ubuntu\n",
      "Retrieving folder '/home/ubuntu/foundation-model-benchmarking-tool/results-llama3-8b-g5.2xl-ec2' from ec2-3-236-82-193.compute-1.amazonaws.com to 'output/results-llama3-8b-g5.2xl-ec2'...\n",
      "Folder '/home/ubuntu/foundation-model-benchmarking-tool/results-llama3-8b-g5.2xl-ec2' retrieved successfully to 'output/results-llama3-8b-g5.2xl-ec2'.\n"
     ]
    }
   ],
   "source": [
    "if config_data[\"run_steps\"][\"deploy_ec2_instance\"]:\n",
    "    instance_details = generate_instance_details(\n",
    "        instance_id_list, PRIVATE_KEY_FNAME, fmbench_config_map, region=\"us-east-1\"\n",
    "    )# Call the async function\n",
    "    await main()\n"
   ]
  },
  {
   "cell_type": "code",
   "execution_count": 19,
   "metadata": {},
   "outputs": [
    {
     "data": {
      "text/plain": [
       "[{'hostname': 'ec2-3-236-82-193.compute-1.amazonaws.com',\n",
       "  'username': 'ubuntu',\n",
       "  'key_file_path': 'ec2_multi_deploy_kp.pem',\n",
       "  'config_file': 'src/fmbench/configs/llama3/8b/config-ec2-llama3-8b.yml'}]"
      ]
     },
     "execution_count": 19,
     "metadata": {},
     "output_type": "execute_result"
    }
   ],
   "source": [
    "instance_details\n"
   ]
  },
  {
   "cell_type": "code",
   "execution_count": 20,
   "metadata": {},
   "outputs": [],
   "source": [
    "# if config_data[\"run_steps\"][\"delete_ec2_instance\"]:\n",
    "#     for instance_id in instance_id_list:\n",
    "#         delete_ec2_instance(instance_id)\n",
    "#     instance_id_list = []\n"
   ]
  }
 ],
 "metadata": {
  "kernelspec": {
   "display_name": "dsan",
   "language": "python",
   "name": "python3"
  },
  "language_info": {
   "codemirror_mode": {
    "name": "ipython",
    "version": 3
   },
   "file_extension": ".py",
   "mimetype": "text/x-python",
   "name": "python",
   "nbconvert_exporter": "python",
   "pygments_lexer": "ipython3",
   "version": "3.11.9"
  }
 },
 "nbformat": 4,
 "nbformat_minor": 2
}
