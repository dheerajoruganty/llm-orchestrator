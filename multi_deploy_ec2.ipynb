{
 "cells": [
  {
   "cell_type": "code",
   "execution_count": 85,
   "metadata": {},
   "outputs": [],
   "source": [
    "import time\n",
    "import json\n",
    "import yaml\n",
    "import boto3\n",
    "import base64\n",
    "import logging\n",
    "import paramiko\n",
    "from scp import SCPClient\n",
    "from utils import *\n",
    "from botocore.exceptions import NoCredentialsError, ClientError\n",
    "\n",
    "instance_id_list = []\n"
   ]
  },
  {
   "cell_type": "code",
   "execution_count": 3,
   "metadata": {},
   "outputs": [],
   "source": [
    "def load_yaml_file(file_path):\n",
    "    \"\"\"\n",
    "    Load and parse a YAML file.\n",
    "\n",
    "    Args:\n",
    "        file_path (str): The path to the YAML file to be read.\n",
    "\n",
    "    Returns:\n",
    "        dict: Parsed content of the YAML file as a dictionary.\n",
    "    \"\"\"\n",
    "    with open(file_path, \"r\") as file:\n",
    "        try:\n",
    "            data = yaml.safe_load(file)\n",
    "            return data\n",
    "        except yaml.YAMLError as error:\n",
    "            print(f\"Error reading the YAML file: {error}\")\n",
    "            return None\n"
   ]
  },
  {
   "cell_type": "code",
   "execution_count": 4,
   "metadata": {},
   "outputs": [],
   "source": [
    "yaml_file_path = \"config.yml\"\n",
    "config_data = load_yaml_file(yaml_file_path)\n"
   ]
  },
  {
   "cell_type": "code",
   "execution_count": 5,
   "metadata": {},
   "outputs": [
    {
     "name": "stdout",
     "output_type": "stream",
     "text": [
      "{'aws': {'region': 'us-east-1', 'iam_instance_profile_arn': 'arn:aws:iam::471112568442:instance-profile/EC2'}, 'run_steps': {'security_group_creation': True, 'key_pair_generation': False, 'deploy_ec2_instance': True, 'delete_ec2_instance': True}, 'security_group': {'group_name': 'ec2_multi_deploy', 'description': 'MultiDeploy EC2 Security Group', 'vpc_id': None}, 'key_pair_gen': {'key_pair_name': 'ec2_multi_deploy_kp', 'key_pair_fpath': 'ec2_multi_deploy_kp.pem'}, 'instances': [{'instance_type': 'g5.2xlarge', 'ami_id': 'ami-05c3e698bd0cffe7e', 'startup_script': 'startup_scripts/gpu_ubuntu_startup.txt', 'command_to_run': 'fmbench --config-file src/fmbench/configs/llama3/8b/config-ec2-llama3-8b.yml --local-mode yes --write-bucket placeholder --tmp-dir /tmp > fmbench.log 2>&1'}]}\n"
     ]
    }
   ],
   "source": [
    "print(config_data)\n"
   ]
  },
  {
   "cell_type": "code",
   "execution_count": 38,
   "metadata": {},
   "outputs": [],
   "source": [
    "# Define a dictionary for common AMIs and their corresponding usernames\n",
    "AMI_USERNAME_MAP = {\n",
    "    'ami-': 'ec2-user',    # Amazon Linux AMIs start with 'ami-'\n",
    "    'ubuntu': 'ubuntu',    # Ubuntu AMIs contain 'ubuntu' in their name\n",
    "}\n"
   ]
  },
  {
   "cell_type": "code",
   "execution_count": 12,
   "metadata": {},
   "outputs": [
    {
     "name": "stdout",
     "output_type": "stream",
     "text": [
      "Security Group 'ec2_multi_deploy' already exists. Fetching existing security group ID.\n",
      "Inbound rule already exists for Security Group sg-013c79f5ffe82fb52. Skipping...\n"
     ]
    }
   ],
   "source": [
    "if config_data[\"run_steps\"][\"security_group_creation\"]:\n",
    "    GROUP_NAME = config_data[\"security_group\"].get(\"group_name\")\n",
    "    DESCRIPTION = config_data[\"security_group\"].get(\"description\", \" \")\n",
    "    VPC_ID = config_data[\"security_group\"].get(\"vpc_id\", \"\")\n",
    "    try:\n",
    "        sg_id = create_security_group(GROUP_NAME, DESCRIPTION, VPC_ID)\n",
    "\n",
    "        if sg_id:\n",
    "            # Add inbound rules if security group was created successfully\n",
    "            authorize_inbound_rules(sg_id)\n",
    "    except ClientError as e:\n",
    "        print(f\"An error occurred while creating or getting the security group: {e}\")\n"
   ]
  },
  {
   "cell_type": "code",
   "execution_count": 13,
   "metadata": {},
   "outputs": [],
   "source": [
    "if config_data[\"run_steps\"][\"key_pair_generation\"]:\n",
    "    KEY_PAIR_NAME = config_data[\"key_pair_gen\"][\"key_pair_name\"]\n",
    "    private_key = create_key_pair(KEY_PAIR_NAME)\n",
    "elif config_data[\"run_steps\"][\"key_pair_generation\"] == False:\n",
    "    KEY_PAIR_NAME = config_data[\"key_pair_gen\"][\"key_pair_name\"]\n",
    "    PRIVATE_KEY_FNAME = config_data[\"key_pair_gen\"][\"key_pair_fpath\"]\n",
    "    try:\n",
    "        with open(f\"{PRIVATE_KEY_FNAME}\", \"r\") as file:\n",
    "            private_key = file.read()\n",
    "    except FileNotFoundError:\n",
    "        print(f\"File not found: {PRIVATE_KEY_FNAME}\")\n",
    "    except IOError as e:\n",
    "        print(f\"Error reading file {PRIVATE_KEY_FNAME}: {e}\")\n"
   ]
  },
  {
   "cell_type": "code",
   "execution_count": 14,
   "metadata": {},
   "outputs": [
    {
     "name": "stdout",
     "output_type": "stream",
     "text": [
      "{'instance_type': 'g5.2xlarge', 'ami_id': 'ami-05c3e698bd0cffe7e', 'startup_script': 'startup_scripts/gpu_ubuntu_startup.txt', 'command_to_run': 'fmbench --config-file src/fmbench/configs/llama3/8b/config-ec2-llama3-8b.yml --local-mode yes --write-bucket placeholder --tmp-dir /tmp > fmbench.log 2>&1'}\n"
     ]
    }
   ],
   "source": [
    "for i in config_data[\"instances\"]:\n",
    "    print(i)\n"
   ]
  },
  {
   "cell_type": "code",
   "execution_count": 66,
   "metadata": {},
   "outputs": [
    {
     "name": "stdout",
     "output_type": "stream",
     "text": [
      "arn:aws:iam::471112568442:instance-profile/EC2\n",
      "EC2 Instance 'i-04c4c6a522a4e97c1' created successfully with user data.\n"
     ]
    }
   ],
   "source": [
    "if config_data[\"run_steps\"][\"deploy_ec2_instance\"]:\n",
    "    iam_arn = config_data[\"aws\"][\"iam_instance_profile_arn\"]\n",
    "    print(iam_arn)\n",
    "    # WIP Parallelize This.\n",
    "    for instance in config_data[\"instances\"]:\n",
    "        instance_type = instance[\"instance_type\"]\n",
    "        ami_id = instance[\"ami_id\"]\n",
    "        startup_script = instance[\"startup_script\"]\n",
    "        command_to_run = instance[\"command_to_run\"]\n",
    "        with open(f\"{startup_script}\", \"r\") as file:\n",
    "            user_data_script = file.read()\n",
    "        # user_data_script += command_to_run\n",
    "        # Create an EC2 instance with the user data script\n",
    "        instance_id = create_ec2_instance(\n",
    "            KEY_PAIR_NAME,\n",
    "            sg_id,\n",
    "            user_data_script,\n",
    "            ami_id,\n",
    "            instance_type,\n",
    "            iam_arn,\n",
    "            \n",
    "        )\n",
    "        instance_id_list.append(instance_id)\n",
    "    \n",
    "    \n",
    "    # check_and_retrieve_results_folders(instance_details, PRIVATE_KEY_FNAME, \"results-output\")\n"
   ]
  },
  {
   "cell_type": "code",
   "execution_count": 69,
   "metadata": {},
   "outputs": [],
   "source": [
    "instance_details = generate_instance_details(instance_id_list, PRIVATE_KEY_FNAME)\n"
   ]
  },
  {
   "cell_type": "code",
   "execution_count": 70,
   "metadata": {},
   "outputs": [
    {
     "data": {
      "text/plain": [
       "[{'hostname': 'ec2-54-166-132-170.compute-1.amazonaws.com',\n",
       "  'username': 'ubuntu',\n",
       "  'key_file_path': 'ec2_multi_deploy_kp.pem'}]"
      ]
     },
     "execution_count": 70,
     "metadata": {},
     "output_type": "execute_result"
    }
   ],
   "source": [
    "instance_details\n"
   ]
  },
  {
   "cell_type": "code",
   "execution_count": 82,
   "metadata": {},
   "outputs": [
    {
     "name": "stdout",
     "output_type": "stream",
     "text": [
      "Running command on ec2-54-166-132-170.compute-1.amazonaws.com as ubuntu...\n",
      "Connected to ec2-54-166-132-170.compute-1.amazonaws.com as ubuntu\n",
      "Results for ec2-54-166-132-170.compute-1.amazonaws.com:\n",
      "Command Output:\n",
      "no change     /opt/conda/condabin/conda\n",
      "no change     /opt/conda/bin/conda\n",
      "no change     /opt/conda/bin/conda-env\n",
      "no change     /opt/conda/bin/activate\n",
      "no change     /opt/conda/bin/deactivate\n",
      "no change     /opt/conda/etc/profile.d/conda.sh\n",
      "no change     /opt/conda/etc/fish/conf.d/conda.fish\n",
      "no change     /opt/conda/shell/condabin/Conda.psm1\n",
      "no change     /opt/conda/shell/condabin/conda-hook.ps1\n",
      "no change     /opt/conda/lib/python3.10/site-packages/xontrib/conda.xsh\n",
      "no change     /opt/conda/etc/profile.d/conda.csh\n",
      "no change     /home/ubuntu/.bashrc\n",
      "No action taken.\n",
      "\n",
      "Command Error:\n",
      "\n",
      "CondaError: Run 'conda init' before 'conda activate'\n",
      "\n",
      "\n",
      "Exit Status: 1\n"
     ]
    }
   ],
   "source": [
    "command = '''cd foundation-model-benchmarking-tool && \n",
    "            conda init &&\n",
    "            source ~/.bashrc &&\n",
    "            conda activate fmbench_python311 && \n",
    "            fmbench --config-file src/fmbench/configs/llama3/8b/config-ec2-llama3-8b.yml --local-mode yes --write-bucket placeholder --tmp-dir /tmp > fmbench.log 2>&1'''\n",
    "results = run_command_on_instances(instance_details, PRIVATE_KEY_FNAME, command)\n",
    "for hostname, result in results.items():\n",
    "    print(f\"Results for {hostname}:\")\n",
    "    print(f\"Command Output:\\n{result['stdout']}\")\n",
    "    if result['stderr']:\n",
    "        print(f\"Command Error:\\n{result['stderr']}\")\n",
    "    print(f\"Exit Status: {result['exit_status']}\")\n"
   ]
  },
  {
   "cell_type": "code",
   "execution_count": 18,
   "metadata": {},
   "outputs": [
    {
     "data": {
      "text/plain": [
       "[]"
      ]
     },
     "execution_count": 18,
     "metadata": {},
     "output_type": "execute_result"
    }
   ],
   "source": [
    "instance_id_list\n"
   ]
  },
  {
   "cell_type": "code",
   "execution_count": 49,
   "metadata": {},
   "outputs": [
    {
     "name": "stdout",
     "output_type": "stream",
     "text": [
      "Connected to ec2-3-239-112-152.compute-1.amazonaws.com as ubuntu\n",
      "No matching folders found on ec2-3-239-112-152.compute-1.amazonaws.com: ls: cannot access '/home/ubuntu/foundation-model-benchmarking-tool/results-*': No such file or directory\n"
     ]
    }
   ],
   "source": [
    "check_and_retrieve_results_folders(instance_details, PRIVATE_KEY_FNAME, \"results-output\")\n"
   ]
  },
  {
   "cell_type": "code",
   "execution_count": 84,
   "metadata": {},
   "outputs": [],
   "source": [
    "if config_data[\"run_steps\"][\"delete_ec2_instance\"]:\n",
    "    for instance_id in instance_id_list:\n",
    "        delete_ec2_instance(instance_id)\n",
    "    instance_id_list = []\n"
   ]
  }
 ],
 "metadata": {
  "kernelspec": {
   "display_name": "dsan",
   "language": "python",
   "name": "python3"
  },
  "language_info": {
   "codemirror_mode": {
    "name": "ipython",
    "version": 3
   },
   "file_extension": ".py",
   "mimetype": "text/x-python",
   "name": "python",
   "nbconvert_exporter": "python",
   "pygments_lexer": "ipython3",
   "version": "3.11.9"
  }
 },
 "nbformat": 4,
 "nbformat_minor": 2
}
