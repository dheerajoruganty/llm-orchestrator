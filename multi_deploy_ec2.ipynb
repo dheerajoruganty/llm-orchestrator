{
 "cells": [
  {
   "cell_type": "code",
   "execution_count": 71,
   "metadata": {},
   "outputs": [],
   "source": [
    "import json\n",
    "import yaml\n",
    "import boto3\n",
    "import base64\n",
    "import logging\n",
    "from botocore.exceptions import NoCredentialsError, ClientError\n",
    "\n",
    "instance_id_list = []\n"
   ]
  },
  {
   "cell_type": "code",
   "execution_count": 17,
   "metadata": {},
   "outputs": [],
   "source": [
    "def load_yaml_file(file_path):\n",
    "    \"\"\"\n",
    "    Load and parse a YAML file.\n",
    "\n",
    "    Args:\n",
    "        file_path (str): The path to the YAML file to be read.\n",
    "\n",
    "    Returns:\n",
    "        dict: Parsed content of the YAML file as a dictionary.\n",
    "    \"\"\"\n",
    "    with open(file_path, \"r\") as file:\n",
    "        try:\n",
    "            data = yaml.safe_load(file)\n",
    "            return data\n",
    "        except yaml.YAMLError as error:\n",
    "            print(f\"Error reading the YAML file: {error}\")\n",
    "            return None\n"
   ]
  },
  {
   "cell_type": "code",
   "execution_count": 90,
   "metadata": {},
   "outputs": [],
   "source": [
    "yaml_file_path = \"config.yml\"\n",
    "config_data = load_yaml_file(yaml_file_path)\n"
   ]
  },
  {
   "cell_type": "code",
   "execution_count": 91,
   "metadata": {},
   "outputs": [
    {
     "name": "stdout",
     "output_type": "stream",
     "text": [
      "{'aws': {'region': 'us-east-1', 'iam_instance_profile_arn': 'arn:aws:iam::471112568442:instance-profile/EC2'}, 'run_steps': {'security_group_creation': True, 'key_pair_generation': False, 'deploy_ec2_instance': True, 'delete_ec2_instance': True}, 'security_group': {'group_name': 'ec2_multi_deploy', 'description': 'MultiDeploy EC2 Security Group', 'vpc_id': None}, 'key_pair_gen': {'key_pair_name': 'ec2_multi_deploy_kp', 'key_pair_fpath': 'ec2_multi_deploy_kp.pem'}, 'instances': [{'instance_type': 'g5.2xlarge', 'ami_id': 'ami-05c3e698bd0cffe7e', 'startup_script': 'startup_scripts/gpu_ubuntu_startup.txt', 'command_to_run': 'sudo -u ubuntu bash -c fmbench --config-file src/fmbench/configs/llama3/8b/config-ec2-llama3-8b.yml --local-mode yes --write-bucket placeholder --tmp-dir /tmp > fmbench.log 2>&1'}]}\n"
     ]
    }
   ],
   "source": [
    "print(config_data)\n"
   ]
  },
  {
   "cell_type": "code",
   "execution_count": 20,
   "metadata": {},
   "outputs": [],
   "source": [
    "def get_security_group_id_by_name(group_name, vpc_id, region=\"us-east-1\"):\n",
    "    \"\"\"\n",
    "    Retrieve the security group ID based on its name and VPC ID.\n",
    "\n",
    "    Args:\n",
    "        sg_name (str): The name of the security group.\n",
    "        vpc_id (str): The ID of the VPC where the security group is located.\n",
    "        region (str): The AWS region.\n",
    "\n",
    "    Returns:\n",
    "        str: The security group ID if found, None otherwise.\n",
    "    \"\"\"\n",
    "    ec2_client = boto3.client(\"ec2\", region_name=region)\n",
    "\n",
    "    try:\n",
    "        response = ec2_client.describe_security_groups(\n",
    "            Filters=[\n",
    "                {\"Name\": \"group-name\", \"Values\": [group_name]},\n",
    "            ]\n",
    "        )\n",
    "        # If security group exists, return the ID\n",
    "        if response[\"SecurityGroups\"]:\n",
    "            return response[\"SecurityGroups\"][0][\"GroupId\"]\n",
    "        else:\n",
    "            print(f\"Security group '{group_name}' not found in VPC '{vpc_id}'.\")\n",
    "            return None\n",
    "\n",
    "    except ClientError as e:\n",
    "        print(f\"Error retrieving security group: {e}\")\n",
    "        return None\n"
   ]
  },
  {
   "cell_type": "code",
   "execution_count": 21,
   "metadata": {},
   "outputs": [],
   "source": [
    "def create_security_group(group_name, description, vpc_id=None, region=\"us-east-1\"):\n",
    "    \"\"\"\n",
    "    Create an EC2 security group.\n",
    "\n",
    "    Args:\n",
    "        group_name (str): Name of the security group.\n",
    "        description (str): Description of the security group.\n",
    "        vpc_id (str, optional): ID of the VPC in which to create the security group. If None, it will be created in the default VPC.\n",
    "        region (str): AWS region where the security group will be created.\n",
    "\n",
    "    Returns:\n",
    "        str: ID of the created security group.\n",
    "    \"\"\"\n",
    "    # Initialize the EC2 client\n",
    "    ec2_client = boto3.client(\"ec2\", region_name=region)\n",
    "\n",
    "    try:\n",
    "        # Define parameters for creating the security group\n",
    "        params = {\n",
    "            \"GroupName\": group_name,\n",
    "            \"Description\": description,\n",
    "        }\n",
    "\n",
    "        # Only add the VpcId parameter if vpc_id is not None\n",
    "        if vpc_id is not None:\n",
    "            params[\"VpcId\"] = vpc_id\n",
    "\n",
    "        # Create the security group\n",
    "        response = ec2_client.create_security_group(**params)\n",
    "\n",
    "        security_group_id = response[\"GroupId\"]\n",
    "        print(f\"Security Group Created: {security_group_id}\")\n",
    "\n",
    "        return security_group_id\n",
    "\n",
    "    except ClientError as e:\n",
    "        # Check if the error is due to the group already existing\n",
    "        if e.response[\"Error\"][\"Code\"] == \"InvalidGroup.Duplicate\":\n",
    "            print(\n",
    "                f\"Security Group '{group_name}' already exists. Fetching existing security group ID.\"\n",
    "            )\n",
    "            return get_security_group_id_by_name(group_name, vpc_id, region)\n",
    "        else:\n",
    "            print(f\"Error creating security group: {e}\")\n",
    "            return None\n"
   ]
  },
  {
   "cell_type": "code",
   "execution_count": 22,
   "metadata": {},
   "outputs": [],
   "source": [
    "def authorize_inbound_rules(security_group_id, region=\"us-east-1\"):\n",
    "    \"\"\"\n",
    "    Authorize inbound rules to a security group.\n",
    "\n",
    "    Args:\n",
    "        security_group_id (str): ID of the security group.\n",
    "        region (str): AWS region where the security group is located.\n",
    "    \"\"\"\n",
    "    # Initialize the EC2 client\n",
    "    ec2_client = boto3.client(\"ec2\", region_name=region)\n",
    "\n",
    "    try:\n",
    "        # Authorize inbound rules\n",
    "        ec2_client.authorize_security_group_ingress(\n",
    "            GroupId=security_group_id,\n",
    "            IpPermissions=[\n",
    "                {\n",
    "                    \"IpProtocol\": \"tcp\",\n",
    "                    \"FromPort\": 22,\n",
    "                    \"ToPort\": 22,\n",
    "                    \"IpRanges\": [{\"CidrIp\": \"0.0.0.0/0\"}],  # Allow SSH from anywhere\n",
    "                },\n",
    "                {\n",
    "                    \"IpProtocol\": \"tcp\",\n",
    "                    \"FromPort\": 80,\n",
    "                    \"ToPort\": 80,\n",
    "                    \"IpRanges\": [{\"CidrIp\": \"0.0.0.0/0\"}],  # Allow HTTP from anywhere\n",
    "                },\n",
    "            ],\n",
    "        )\n",
    "        print(f\"Inbound rules added to Security Group {security_group_id}\")\n",
    "\n",
    "    except ClientError as e:\n",
    "        if e.response[\"Error\"][\"Code\"] == \"InvalidPermission.Duplicate\":\n",
    "            print(\n",
    "                f\"Inbound rule already exists for Security Group {security_group_id}. Skipping...\"\n",
    "            )\n",
    "        else:\n",
    "            print(f\"Error authorizing inbound rules: {e}\")\n"
   ]
  },
  {
   "cell_type": "code",
   "execution_count": 23,
   "metadata": {},
   "outputs": [],
   "source": [
    "def create_key_pair(key_name, region=\"us-east-1\"):\n",
    "    \"\"\"\n",
    "    Create a new key pair for EC2 instances.\n",
    "\n",
    "    Args:\n",
    "        key_name (str): The name of the key pair.\n",
    "        region (str): AWS region where the key pair will be created.\n",
    "\n",
    "    Returns:\n",
    "        str: The private key material in PEM format.\n",
    "    \"\"\"\n",
    "    # Initialize the EC2 client\n",
    "    ec2_client = boto3.client(\"ec2\", region_name=region)\n",
    "\n",
    "    try:\n",
    "        # Create a key pair\n",
    "        response = ec2_client.create_key_pair(KeyName=key_name)\n",
    "\n",
    "        # Extract the private key from the response\n",
    "        private_key = response[\"KeyMaterial\"]\n",
    "\n",
    "        # Save the private key to a .pem file\n",
    "        with open(f\"{key_name}.pem\", \"w\") as key_file:\n",
    "            key_file.write(private_key)\n",
    "\n",
    "        # Set the correct permissions for the .pem file\n",
    "        import os\n",
    "\n",
    "        os.chmod(f\"{key_name}.pem\", 0o400)  # Readable only by the owner\n",
    "\n",
    "        print(f\"Key pair '{key_name}' created and saved as '{key_name}.pem'\")\n",
    "        return private_key\n",
    "\n",
    "    except ClientError as e:\n",
    "        print(f\"Error creating key pair: {e}\")\n",
    "        return None\n"
   ]
  },
  {
   "cell_type": "code",
   "execution_count": 94,
   "metadata": {},
   "outputs": [],
   "source": [
    "def create_ec2_instance(\n",
    "    key_name,\n",
    "    security_group_id,\n",
    "    user_data_script,\n",
    "    ami,\n",
    "    instance_type,\n",
    "    iam_arn,\n",
    "    region=\"us-east-1\",\n",
    "):\n",
    "    \"\"\"\n",
    "    Create an EC2 instance with a startup script (user data) in the specified region.\n",
    "\n",
    "    Args:\n",
    "        key_name (str): The name of the key pair to associate with the instance.\n",
    "        security_group_id (str): The ID of the security group to associate with the instance.\n",
    "        user_data_script (str): The script to run on startup.\n",
    "        region (str): The AWS region to launch the instance in.\n",
    "\n",
    "    Returns:\n",
    "        str: The ID of the created instance.\n",
    "    \"\"\"\n",
    "    # Initialize a session using Amazon EC2\n",
    "    ec2_resource = boto3.resource(\"ec2\", region_name=\"us-east-1\")\n",
    "\n",
    "    try:\n",
    "        # Create a new EC2 instance with user data\n",
    "        instances = ec2_resource.create_instances(\n",
    "            BlockDeviceMappings=[\n",
    "                {\n",
    "                    \"DeviceName\": \"/dev/sda1\",\n",
    "                    \"Ebs\": {\n",
    "                        \"DeleteOnTermination\": True,\n",
    "                        \"Iops\": 16000,\n",
    "                        \"VolumeSize\": 250,\n",
    "                        \"VolumeType\": \"gp3\",\n",
    "                    },\n",
    "                },\n",
    "            ],\n",
    "            ImageId=ami,\n",
    "            InstanceType=instance_type,  # Instance type\n",
    "            KeyName=key_name,  # Name of the key pair\n",
    "            SecurityGroupIds=[security_group_id],  # Security group ID\n",
    "            UserData=user_data_script,  # The user data script to run on startup\n",
    "            MinCount=1,  # Minimum number of instances to launch\n",
    "            MaxCount=1,  # Maximum number of instances to launch\n",
    "            IamInstanceProfile={  # IAM role to associate with the instance\n",
    "                \"Arn\": iam_arn\n",
    "            },\n",
    "            TagSpecifications=[\n",
    "                {\n",
    "                    \"ResourceType\": \"instance\",\n",
    "                    \"Tags\": [{\"Key\": \"Name\", \"Value\": \"FMbench-EC2\"}],\n",
    "                }\n",
    "            ],\n",
    "        )\n",
    "\n",
    "        # Get the instance ID of the created instance\n",
    "        instance_id = instances[0].id\n",
    "        print(f\"EC2 Instance '{instance_id}' created successfully with user data.\")\n",
    "\n",
    "        return instance_id\n",
    "\n",
    "    except ClientError as e:\n",
    "        print(f\"Error creating EC2 instance: {e}\")\n",
    "        return None\n"
   ]
  },
  {
   "cell_type": "code",
   "execution_count": 82,
   "metadata": {},
   "outputs": [],
   "source": [
    "def delete_ec2_instance(instance_id, region=\"us-east-1\"):\n",
    "    \"\"\"\n",
    "    Deletes an EC2 instance given its instance ID.\n",
    "\n",
    "    Args:\n",
    "        instance_id (str): The ID of the instance to delete.\n",
    "        region (str): The AWS region where the instance is located.\n",
    "\n",
    "    Returns:\n",
    "        bool: True if the instance was deleted successfully, False otherwise.\n",
    "    \"\"\"\n",
    "    ec2_client = boto3.client(\"ec2\", region_name=region)\n",
    "\n",
    "    try:\n",
    "        # Terminate the EC2 instance\n",
    "        response = ec2_client.terminate_instances(InstanceIds=[instance_id])\n",
    "        print(f\"Instance {instance_id} has been terminated.\")\n",
    "        return True\n",
    "    except ClientError as e:\n",
    "        print(f\"Error deleting instance {instance_id}: {e}\")\n",
    "        return False\n"
   ]
  },
  {
   "cell_type": "code",
   "execution_count": 26,
   "metadata": {},
   "outputs": [
    {
     "name": "stdout",
     "output_type": "stream",
     "text": [
      "Security Group 'ec2_multi_deploy' already exists. Fetching existing security group ID.\n",
      "Inbound rule already exists for Security Group sg-013c79f5ffe82fb52. Skipping...\n"
     ]
    }
   ],
   "source": [
    "if config_data[\"run_steps\"][\"security_group_creation\"]:\n",
    "    GROUP_NAME = config_data[\"security_group\"].get(\"group_name\")\n",
    "    DESCRIPTION = config_data[\"security_group\"].get(\"description\", \" \")\n",
    "    VPC_ID = config_data[\"security_group\"].get(\"vpc_id\", \"\")\n",
    "    try:\n",
    "        sg_id = create_security_group(GROUP_NAME, DESCRIPTION, VPC_ID)\n",
    "\n",
    "        if sg_id:\n",
    "            # Add inbound rules if security group was created successfully\n",
    "            authorize_inbound_rules(sg_id)\n",
    "    except ClientError as e:\n",
    "        print(f\"An error occurred while creating or getting the security group: {e}\")\n"
   ]
  },
  {
   "cell_type": "code",
   "execution_count": 27,
   "metadata": {},
   "outputs": [],
   "source": [
    "if config_data[\"run_steps\"][\"key_pair_generation\"]:\n",
    "    KEY_PAIR_NAME = config_data[\"key_pair_gen\"][\"key_pair_name\"]\n",
    "    private_key = create_key_pair(KEY_PAIR_NAME)\n",
    "elif config_data[\"run_steps\"][\"key_pair_generation\"] == False:\n",
    "    KEY_PAIR_NAME = config_data[\"key_pair_gen\"][\"key_pair_name\"]\n",
    "    PRIVATE_KEY_FNAME = config_data[\"key_pair_gen\"][\"key_pair_fpath\"]\n",
    "    try:\n",
    "        with open(f\"{PRIVATE_KEY_FNAME}\", \"r\") as file:\n",
    "            private_key = file.read()\n",
    "    except FileNotFoundError:\n",
    "        print(f\"File not found: {PRIVATE_KEY_FNAME}\")\n",
    "    except IOError as e:\n",
    "        print(f\"Error reading file {PRIVATE_KEY_FNAME}: {e}\")\n"
   ]
  },
  {
   "cell_type": "code",
   "execution_count": 28,
   "metadata": {},
   "outputs": [
    {
     "name": "stdout",
     "output_type": "stream",
     "text": [
      "{'instance_type': 'g5.2xlarge', 'ami_id': 'ami-07f302d2a74e2b584', 'startup_script': 'startup_scripts/az_linux2_startup.txt'}\n"
     ]
    }
   ],
   "source": [
    "for i in config_data[\"instances\"]:\n",
    "    print(i)\n"
   ]
  },
  {
   "cell_type": "code",
   "execution_count": 101,
   "metadata": {},
   "outputs": [
    {
     "name": "stdout",
     "output_type": "stream",
     "text": [
      "arn:aws:iam::471112568442:instance-profile/EC2\n",
      "EC2 Instance 'i-0573e990f255b8b52' created successfully with user data.\n"
     ]
    }
   ],
   "source": [
    "if config_data[\"run_steps\"][\"deploy_ec2_instance\"]:\n",
    "    iam_arn = config_data[\"aws\"][\"iam_instance_profile_arn\"]\n",
    "    print(iam_arn)\n",
    "    # WIP Parallelize This.\n",
    "    for instance in config_data[\"instances\"]:\n",
    "        instance_type = instance[\"instance_type\"]\n",
    "        ami_id = instance[\"ami_id\"]\n",
    "        startup_script = instance[\"startup_script\"]\n",
    "        command_to_run = instance[\"command_to_run\"]\n",
    "        with open(f\"{startup_script}\", \"r\") as file:\n",
    "            user_data_script = file.read()\n",
    "        user_data_script += command_to_run\n",
    "        # Create an EC2 instance with the user data script\n",
    "        instance_id = create_ec2_instance(\n",
    "            KEY_PAIR_NAME,\n",
    "            sg_id,\n",
    "            user_data_script,\n",
    "            ami_id,\n",
    "            instance_type,\n",
    "            iam_arn,\n",
    "            \n",
    "        )\n",
    "        instance_id_list.append(instance_id)\n"
   ]
  },
  {
   "cell_type": "code",
   "execution_count": 84,
   "metadata": {},
   "outputs": [
    {
     "data": {
      "text/plain": [
       "[]"
      ]
     },
     "execution_count": 84,
     "metadata": {},
     "output_type": "execute_result"
    }
   ],
   "source": [
    "instance_id_list\n"
   ]
  },
  {
   "cell_type": "code",
   "execution_count": 100,
   "metadata": {},
   "outputs": [
    {
     "name": "stdout",
     "output_type": "stream",
     "text": [
      "Instance i-063d6d24ba763b9a2 has been terminated.\n"
     ]
    }
   ],
   "source": [
    "if config_data[\"run_steps\"][\"delete_ec2_instance\"]:\n",
    "    for instance_id in instance_id_list:\n",
    "        delete_ec2_instance(instance_id)\n",
    "    instance_id_list = []\n"
   ]
  }
 ],
 "metadata": {
  "kernelspec": {
   "display_name": "dsan",
   "language": "python",
   "name": "python3"
  },
  "language_info": {
   "codemirror_mode": {
    "name": "ipython",
    "version": 3
   },
   "file_extension": ".py",
   "mimetype": "text/x-python",
   "name": "python",
   "nbconvert_exporter": "python",
   "pygments_lexer": "ipython3",
   "version": "3.11.9"
  }
 },
 "nbformat": 4,
 "nbformat_minor": 2
}
