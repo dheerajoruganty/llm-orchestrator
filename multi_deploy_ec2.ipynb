{
 "cells": [
  {
   "cell_type": "code",
   "execution_count": 30,
   "metadata": {},
   "outputs": [],
   "source": [
    "import time\n",
    "import json\n",
    "import yaml\n",
    "import boto3\n",
    "import base64\n",
    "import logging\n",
    "import paramiko\n",
    "from utils import *\n",
    "from scp import SCPClient\n",
    "from collections import defaultdict\n",
    "from botocore.exceptions import NoCredentialsError, ClientError\n",
    "\n",
    "instance_id_list = []\n",
    "fmbench_config_map = []\n"
   ]
  },
  {
   "cell_type": "code",
   "execution_count": 21,
   "metadata": {},
   "outputs": [],
   "source": [
    "def load_yaml_file(file_path):\n",
    "    \"\"\"\n",
    "    Load and parse a YAML file.\n",
    "\n",
    "    Args:\n",
    "        file_path (str): The path to the YAML file to be read.\n",
    "\n",
    "    Returns:\n",
    "        dict: Parsed content of the YAML file as a dictionary.\n",
    "    \"\"\"\n",
    "    with open(file_path, \"r\") as file:\n",
    "        try:\n",
    "            data = yaml.safe_load(file)\n",
    "            return data\n",
    "        except yaml.YAMLError as error:\n",
    "            print(f\"Error reading the YAML file: {error}\")\n",
    "            return None\n"
   ]
  },
  {
   "cell_type": "code",
   "execution_count": 22,
   "metadata": {},
   "outputs": [],
   "source": [
    "yaml_file_path = \"config.yml\"\n",
    "config_data = load_yaml_file(yaml_file_path)\n"
   ]
  },
  {
   "cell_type": "code",
   "execution_count": 23,
   "metadata": {},
   "outputs": [
    {
     "name": "stdout",
     "output_type": "stream",
     "text": [
      "{'aws': {'region': 'us-east-1', 'iam_instance_profile_arn': 'arn:aws:iam::471112568442:instance-profile/EC2'}, 'run_steps': {'security_group_creation': True, 'key_pair_generation': False, 'deploy_ec2_instance': True, 'delete_ec2_instance': True}, 'security_group': {'group_name': 'ec2_multi_deploy', 'description': 'MultiDeploy EC2 Security Group', 'vpc_id': None}, 'key_pair_gen': {'key_pair_name': 'ec2_multi_deploy_kp', 'key_pair_fpath': 'ec2_multi_deploy_kp.pem'}, 'instances': [{'instance_type': 'g5.2xlarge', 'ami_id': 'ami-05c3e698bd0cffe7e', 'startup_script': 'startup_scripts/gpu_ubuntu_startup.txt', 'fmbench_config': 'src/fmbench/configs/llama3/8b/config-ec2-llama3-8b.yml'}]}\n"
     ]
    }
   ],
   "source": [
    "print(config_data)\n"
   ]
  },
  {
   "cell_type": "code",
   "execution_count": 25,
   "metadata": {},
   "outputs": [],
   "source": [
    "# Define a dictionary for common AMIs and their corresponding usernames\n",
    "AMI_USERNAME_MAP = {\n",
    "    \"ami-\": \"ec2-user\",  # Amazon Linux AMIs start with 'ami-'\n",
    "    \"ubuntu\": \"ubuntu\",  # Ubuntu AMIs contain 'ubuntu' in their name\n",
    "}\n"
   ]
  },
  {
   "cell_type": "code",
   "execution_count": 7,
   "metadata": {},
   "outputs": [
    {
     "name": "stdout",
     "output_type": "stream",
     "text": [
      "Security Group 'ec2_multi_deploy' already exists. Fetching existing security group ID.\n",
      "Inbound rule already exists for Security Group sg-013c79f5ffe82fb52. Skipping...\n"
     ]
    }
   ],
   "source": [
    "if config_data[\"run_steps\"][\"security_group_creation\"]:\n",
    "    GROUP_NAME = config_data[\"security_group\"].get(\"group_name\")\n",
    "    DESCRIPTION = config_data[\"security_group\"].get(\"description\", \" \")\n",
    "    VPC_ID = config_data[\"security_group\"].get(\"vpc_id\", \"\")\n",
    "    try:\n",
    "        sg_id = create_security_group(GROUP_NAME, DESCRIPTION, VPC_ID)\n",
    "\n",
    "        if sg_id:\n",
    "            # Add inbound rules if security group was created successfully\n",
    "            authorize_inbound_rules(sg_id)\n",
    "    except ClientError as e:\n",
    "        print(f\"An error occurred while creating or getting the security group: {e}\")\n"
   ]
  },
  {
   "cell_type": "code",
   "execution_count": 8,
   "metadata": {},
   "outputs": [],
   "source": [
    "if config_data[\"run_steps\"][\"key_pair_generation\"]:\n",
    "    KEY_PAIR_NAME = config_data[\"key_pair_gen\"][\"key_pair_name\"]\n",
    "    private_key = create_key_pair(KEY_PAIR_NAME)\n",
    "elif config_data[\"run_steps\"][\"key_pair_generation\"] == False:\n",
    "    KEY_PAIR_NAME = config_data[\"key_pair_gen\"][\"key_pair_name\"]\n",
    "    PRIVATE_KEY_FNAME = config_data[\"key_pair_gen\"][\"key_pair_fpath\"]\n",
    "    try:\n",
    "        with open(f\"{PRIVATE_KEY_FNAME}\", \"r\") as file:\n",
    "            private_key = file.read()\n",
    "    except FileNotFoundError:\n",
    "        print(f\"File not found: {PRIVATE_KEY_FNAME}\")\n",
    "    except IOError as e:\n",
    "        print(f\"Error reading file {PRIVATE_KEY_FNAME}: {e}\")\n"
   ]
  },
  {
   "cell_type": "code",
   "execution_count": 31,
   "metadata": {},
   "outputs": [
    {
     "name": "stdout",
     "output_type": "stream",
     "text": [
      "{'instance_type': 'g5.2xlarge', 'ami_id': 'ami-05c3e698bd0cffe7e', 'startup_script': 'startup_scripts/gpu_ubuntu_startup.txt', 'fmbench_config': 'src/fmbench/configs/llama3/8b/config-ec2-llama3-8b.yml'}\n"
     ]
    }
   ],
   "source": [
    "for i in config_data[\"instances\"]:\n",
    "    print(i)\n"
   ]
  },
  {
   "cell_type": "code",
   "execution_count": 32,
   "metadata": {},
   "outputs": [
    {
     "name": "stdout",
     "output_type": "stream",
     "text": [
      "arn:aws:iam::471112568442:instance-profile/EC2\n",
      "EC2 Instance 'i-0e6aa43300da3a734' created successfully with user data.\n"
     ]
    }
   ],
   "source": [
    "if config_data[\"run_steps\"][\"deploy_ec2_instance\"]:\n",
    "    iam_arn = config_data[\"aws\"][\"iam_instance_profile_arn\"]\n",
    "    print(iam_arn)\n",
    "    # WIP Parallelize This.\n",
    "    for instance in config_data[\"instances\"]:\n",
    "        instance_type = instance[\"instance_type\"]\n",
    "        ami_id = instance[\"ami_id\"]\n",
    "        startup_script = instance[\"startup_script\"]\n",
    "        # command_to_run = instance[\"command_to_run\"]\n",
    "        with open(f\"{startup_script}\", \"r\") as file:\n",
    "            user_data_script = file.read()\n",
    "        # user_data_script += command_to_run\n",
    "        # Create an EC2 instance with the user data script\n",
    "        instance_id = create_ec2_instance(\n",
    "            KEY_PAIR_NAME,\n",
    "            sg_id,\n",
    "            user_data_script,\n",
    "            ami_id,\n",
    "            instance_type,\n",
    "            iam_arn,\n",
    "        )\n",
    "        instance_id_list.append(instance_id)\n",
    "        fmbench_config_map.append({instance_id: instance[\"fmbench_config\"]})\n"
   ]
  },
  {
   "cell_type": "code",
   "execution_count": 33,
   "metadata": {},
   "outputs": [
    {
     "data": {
      "text/plain": [
       "['i-0e6aa43300da3a734']"
      ]
     },
     "execution_count": 33,
     "metadata": {},
     "output_type": "execute_result"
    }
   ],
   "source": [
    "instance_id_list\n"
   ]
  },
  {
   "cell_type": "code",
   "execution_count": 34,
   "metadata": {},
   "outputs": [
    {
     "data": {
      "text/plain": [
       "[{'i-0e6aa43300da3a734': 'src/fmbench/configs/llama3/8b/config-ec2-llama3-8b.yml'}]"
      ]
     },
     "execution_count": 34,
     "metadata": {},
     "output_type": "execute_result"
    }
   ],
   "source": [
    "fmbench_config_map\n"
   ]
  },
  {
   "cell_type": "code",
   "execution_count": 35,
   "metadata": {},
   "outputs": [],
   "source": [
    "instance_details = generate_instance_details(\n",
    "    instance_id_list, PRIVATE_KEY_FNAME, fmbench_config_map, region=\"us-east-1\"\n",
    ")\n"
   ]
  },
  {
   "cell_type": "code",
   "execution_count": 49,
   "metadata": {},
   "outputs": [
    {
     "data": {
      "text/plain": [
       "[{'hostname': 'ec2-34-232-62-253.compute-1.amazonaws.com',\n",
       "  'username': 'ubuntu',\n",
       "  'key_file_path': 'ec2_multi_deploy_kp.pem',\n",
       "  'config_file': 'src/fmbench/configs/llama3/8b/config-ec2-llama3-8b.yml'}]"
      ]
     },
     "execution_count": 49,
     "metadata": {},
     "output_type": "execute_result"
    }
   ],
   "source": [
    "instance_details\n"
   ]
  },
  {
   "cell_type": "code",
   "execution_count": 66,
   "metadata": {},
   "outputs": [],
   "source": [
    "bash_script = \"\"\"cd /home/ubuntu/foundation-model-benchmarking-tool;\n",
    "                source activate fmbench_python311;\n",
    "                 . ~/.bashrc;\n",
    "                if [[ \"$CONDA_DEFAULT_ENV\" == \"fmbench_python311\" ]]; then\n",
    "                    echo \"The current environment is fmbench_python311. Running FMBench...\"\n",
    "                    nohup fmbench --config-file {config_file} --local-mode yes --write-bucket placeholder --tmp-dir /tmp > fmbench.log 2>&1 &\n",
    "                    echo \"FMBench execution completed.\"\n",
    "                else\n",
    "                    echo \"Error: The current environment is not fmbench_python311. Exiting.\"\n",
    "                    exit 1\n",
    "                fi\n",
    "                \"\"\"\n"
   ]
  },
  {
   "cell_type": "code",
   "execution_count": 67,
   "metadata": {},
   "outputs": [],
   "source": [
    "def upload_and_execute_script_invoke_shell(\n",
    "    hostname, username, key_file_path, script_content, remote_script_path\n",
    "):\n",
    "    \"\"\"\n",
    "    Uploads a bash script to the EC2 instance and executes it via an interactive SSH shell.\n",
    "\n",
    "    Args:\n",
    "        hostname (str): The public IP or DNS of the EC2 instance.\n",
    "        username (str): The SSH username (e.g., 'ubuntu').\n",
    "        key_file_path (str): The path to the PEM key file.\n",
    "        script_content (str): The content of the bash script to upload.\n",
    "        remote_script_path (str): The remote path where the script should be saved on the instance.\n",
    "\n",
    "    Returns:\n",
    "        str: The output of the executed script.\n",
    "    \"\"\"\n",
    "    try:\n",
    "        # Initialize the SSH client\n",
    "        ssh_client = paramiko.SSHClient()\n",
    "        ssh_client.set_missing_host_key_policy(paramiko.AutoAddPolicy())\n",
    "\n",
    "        # Load the private key\n",
    "        private_key = paramiko.RSAKey.from_private_key_file(key_file_path)\n",
    "\n",
    "        # Connect to the instance\n",
    "        ssh_client.connect(hostname, username=username, pkey=private_key)\n",
    "        print(f\"Connected to {hostname} as {username}\")\n",
    "\n",
    "        # Open SFTP session to upload the script\n",
    "        sftp = ssh_client.open_sftp()\n",
    "        with sftp.open(remote_script_path, \"w\") as remote_file:\n",
    "            remote_file.write(script_content)\n",
    "        sftp.close()\n",
    "        print(f\"Script uploaded to {remote_script_path}\")\n",
    "\n",
    "        # Open an interactive shell session\n",
    "        shell = ssh_client.invoke_shell()\n",
    "        time.sleep(1)  # Give the shell some time to initialize\n",
    "\n",
    "        # Send the commands to the shell\n",
    "        shell.send(f\"chmod +x {remote_script_path}\\n\")  # Make the script executable\n",
    "        time.sleep(1)  # Wait for the command to complete\n",
    "\n",
    "        # Execute the script\n",
    "        shell.send(f\"bash -l -c '{remote_script_path}'\\n\")\n",
    "        time.sleep(1)  # Wait for the command to complete\n",
    "\n",
    "        # Read the output of the script\n",
    "        output = \"\"\n",
    "        while shell.recv_ready():\n",
    "            output += shell.recv(1024).decode(\"utf-8\")\n",
    "            time.sleep(2)  # Allow time for the command output to be captured\n",
    "\n",
    "        # Close the shell and connection\n",
    "        shell.close()\n",
    "        ssh_client.close()\n",
    "\n",
    "        return output\n",
    "\n",
    "    except Exception as e:\n",
    "        print(f\"Error connecting via SSH to {hostname}: {e}\")\n",
    "        return None\n"
   ]
  },
  {
   "cell_type": "code",
   "execution_count": 68,
   "metadata": {},
   "outputs": [
    {
     "name": "stdout",
     "output_type": "stream",
     "text": [
      "Connected to ec2-34-232-62-253.compute-1.amazonaws.com as ubuntu\n",
      "Script uploaded to /home/ubuntu/run_fmbench.sh\n"
     ]
    }
   ],
   "source": [
    "for instance in instance_details:\n",
    "    remote_script_path = \"/home/ubuntu/run_fmbench.sh\"\n",
    "\n",
    "    # Format the script with the specific config file\n",
    "    formatted_script = bash_script.format(config_file=instance[\"config_file\"])\n",
    "\n",
    "    # Upload and execute the script on the instance\n",
    "    script_output = upload_and_execute_script_invoke_shell(\n",
    "        hostname=instance[\"hostname\"],\n",
    "        username=instance[\"username\"],\n",
    "        key_file_path=instance[\"key_file_path\"],\n",
    "        script_content=formatted_script,\n",
    "        remote_script_path=remote_script_path,\n",
    "    )\n"
   ]
  },
  {
   "cell_type": "code",
   "execution_count": null,
   "metadata": {},
   "outputs": [],
   "source": [
    "results = run_command_on_instances(instance_details, PRIVATE_KEY_FNAME, command)\n",
    "for hostname, result in results.items():\n",
    "    print(f\"Results for {hostname}:\")\n",
    "    print(f\"Command Output:\\n{result['stdout']}\")\n",
    "    if result[\"stderr\"]:\n",
    "        print(f\"Command Error:\\n{result['stderr']}\")\n",
    "    print(f\"Exit Status: {result['exit_status']}\")\n"
   ]
  },
  {
   "cell_type": "code",
   "execution_count": null,
   "metadata": {},
   "outputs": [],
   "source": [
    "check_and_retrieve_results_folders(\n",
    "    instance_details, PRIVATE_KEY_FNAME, \"results-output\"\n",
    ")\n"
   ]
  },
  {
   "cell_type": "code",
   "execution_count": 13,
   "metadata": {},
   "outputs": [],
   "source": [
    "if config_data[\"run_steps\"][\"delete_ec2_instance\"]:\n",
    "    for instance_id in instance_id_list:\n",
    "        delete_ec2_instance(instance_id)\n",
    "    instance_id_list = []\n"
   ]
  }
 ],
 "metadata": {
  "kernelspec": {
   "display_name": "dsan",
   "language": "python",
   "name": "python3"
  },
  "language_info": {
   "codemirror_mode": {
    "name": "ipython",
    "version": 3
   },
   "file_extension": ".py",
   "mimetype": "text/x-python",
   "name": "python",
   "nbconvert_exporter": "python",
   "pygments_lexer": "ipython3",
   "version": "3.11.9"
  }
 },
 "nbformat": 4,
 "nbformat_minor": 2
}
